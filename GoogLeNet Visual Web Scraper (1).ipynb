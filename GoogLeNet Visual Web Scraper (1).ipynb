{
 "cells": [
  {
   "cell_type": "code",
   "execution_count": 1,
   "metadata": {},
   "outputs": [],
   "source": [
    "from bs4 import BeautifulSoup\n",
    "import re\n",
    "import requests\n",
    "import numpy as np\n",
    "import os\n",
    "import base64\n",
    "import shutil"
   ]
  },
  {
   "cell_type": "code",
   "execution_count": 2,
   "metadata": {},
   "outputs": [],
   "source": [
    "site_url = 'http://storage.googleapis.com/deepdream/visualz/tensorflow_inception/index.html'\n",
    "page = requests.get(site_url)\n",
    "soup = BeautifulSoup(page.content, 'html.parser')\n",
    "#print(soup)"
   ]
  },
  {
   "cell_type": "code",
   "execution_count": 3,
   "metadata": {},
   "outputs": [
    {
     "name": "stdout",
     "output_type": "stream",
     "text": [
      "conv2d0_pre_relu.html\n",
      "conv2d1_pre_relu.html\n",
      "conv2d2_pre_relu.html\n",
      "head0_bottleneck_pre_relu.html\n",
      "head1_bottleneck_pre_relu.html\n",
      "mixed3a_1x1_pre_relu.html\n",
      "mixed3a_3x3_bottleneck_pre_relu.html\n",
      "mixed3a_3x3_pre_relu.html\n",
      "mixed3a_5x5_bottleneck_pre_relu.html\n",
      "mixed3a_5x5_pre_relu.html\n",
      "mixed3a_pool_reduce_pre_relu.html\n",
      "mixed3b_1x1_pre_relu.html\n",
      "mixed3b_3x3_bottleneck_pre_relu.html\n",
      "mixed3b_3x3_pre_relu.html\n",
      "mixed3b_5x5_bottleneck_pre_relu.html\n",
      "mixed3b_5x5_pre_relu.html\n",
      "mixed3b_pool_reduce_pre_relu.html\n",
      "mixed4a_1x1_pre_relu.html\n",
      "mixed4a_3x3_bottleneck_pre_relu.html\n",
      "mixed4a_3x3_pre_relu.html\n",
      "mixed4a_5x5_bottleneck_pre_relu.html\n",
      "mixed4a_5x5_pre_relu.html\n",
      "mixed4a_pool_reduce_pre_relu.html\n",
      "mixed4b_1x1_pre_relu.html\n",
      "mixed4b_3x3_bottleneck_pre_relu.html\n",
      "mixed4b_3x3_pre_relu.html\n",
      "mixed4b_5x5_bottleneck_pre_relu.html\n",
      "mixed4b_5x5_pre_relu.html\n",
      "mixed4b_pool_reduce_pre_relu.html\n",
      "mixed4c_1x1_pre_relu.html\n",
      "mixed4c_3x3_bottleneck_pre_relu.html\n",
      "mixed4c_3x3_pre_relu.html\n",
      "mixed4c_5x5_bottleneck_pre_relu.html\n",
      "mixed4c_5x5_pre_relu.html\n",
      "mixed4c_pool_reduce_pre_relu.html\n",
      "mixed4d_1x1_pre_relu.html\n",
      "mixed4d_3x3_bottleneck_pre_relu.html\n",
      "mixed4d_3x3_pre_relu.html\n",
      "mixed4d_5x5_bottleneck_pre_relu.html\n",
      "mixed4d_5x5_pre_relu.html\n",
      "mixed4d_pool_reduce_pre_relu.html\n",
      "mixed4e_1x1_pre_relu.html\n",
      "mixed4e_3x3_bottleneck_pre_relu.html\n",
      "mixed4e_3x3_pre_relu.html\n",
      "mixed4e_5x5_bottleneck_pre_relu.html\n",
      "mixed4e_5x5_pre_relu.html\n",
      "mixed4e_pool_reduce_pre_relu.html\n",
      "mixed5a_1x1_pre_relu.html\n",
      "mixed5a_3x3_bottleneck_pre_relu.html\n",
      "mixed5a_3x3_pre_relu.html\n",
      "mixed5a_5x5_bottleneck_pre_relu.html\n",
      "mixed5a_5x5_pre_relu.html\n",
      "mixed5a_pool_reduce_pre_relu.html\n",
      "mixed5b_1x1_pre_relu.html\n",
      "mixed5b_3x3_bottleneck_pre_relu.html\n",
      "mixed5b_3x3_pre_relu.html\n",
      "mixed5b_5x5_bottleneck_pre_relu.html\n",
      "mixed5b_5x5_pre_relu.html\n",
      "mixed5b_pool_reduce_pre_relu.html\n"
     ]
    }
   ],
   "source": [
    "#get all directory links\n",
    "directories = []\n",
    "for link in soup.find_all('a'):\n",
    "    candidate_url = link.get('href')\n",
    "    directories.append(candidate_url)\n",
    "\n",
    "#confirming all directories were pulled\n",
    "for direct in directories:    \n",
    "    print(direct)"
   ]
  },
  {
   "cell_type": "code",
   "execution_count": 4,
   "metadata": {},
   "outputs": [],
   "source": [
    "#loop through each directory, create a folder for it, and complete the url\n",
    "img_dirs = []\n",
    "for each in directories:\n",
    "    dataset_url = \"http://storage.googleapis.com/deepdream/visualz/tensorflow_inception/index.html\" \n",
    "    dataset_url = dataset_url[:-10]\n",
    "    dataset_url = dataset_url + each\n",
    "    img_dirs.append(dataset_url)\n",
    "\n",
    "   "
   ]
  },
  {
   "cell_type": "code",
   "execution_count": 5,
   "metadata": {},
   "outputs": [
    {
     "name": "stdout",
     "output_type": "stream",
     "text": [
      "http://storage.googleapis.com/deepdream/visualz/tensorflow_inception/conv2d0_pre_relu.html\n",
      "http://storage.googleapis.com/deepdream/visualz/tensorflow_inception/conv2d1_pre_relu.html\n",
      "http://storage.googleapis.com/deepdream/visualz/tensorflow_inception/conv2d2_pre_relu.html\n",
      "http://storage.googleapis.com/deepdream/visualz/tensorflow_inception/head0_bottleneck_pre_relu.html\n",
      "http://storage.googleapis.com/deepdream/visualz/tensorflow_inception/head1_bottleneck_pre_relu.html\n",
      "http://storage.googleapis.com/deepdream/visualz/tensorflow_inception/mixed3a_1x1_pre_relu.html\n",
      "http://storage.googleapis.com/deepdream/visualz/tensorflow_inception/mixed3a_3x3_bottleneck_pre_relu.html\n",
      "http://storage.googleapis.com/deepdream/visualz/tensorflow_inception/mixed3a_3x3_pre_relu.html\n",
      "http://storage.googleapis.com/deepdream/visualz/tensorflow_inception/mixed3a_5x5_bottleneck_pre_relu.html\n",
      "http://storage.googleapis.com/deepdream/visualz/tensorflow_inception/mixed3a_5x5_pre_relu.html\n",
      "http://storage.googleapis.com/deepdream/visualz/tensorflow_inception/mixed3a_pool_reduce_pre_relu.html\n",
      "http://storage.googleapis.com/deepdream/visualz/tensorflow_inception/mixed3b_1x1_pre_relu.html\n",
      "http://storage.googleapis.com/deepdream/visualz/tensorflow_inception/mixed3b_3x3_bottleneck_pre_relu.html\n",
      "http://storage.googleapis.com/deepdream/visualz/tensorflow_inception/mixed3b_3x3_pre_relu.html\n",
      "http://storage.googleapis.com/deepdream/visualz/tensorflow_inception/mixed3b_5x5_bottleneck_pre_relu.html\n",
      "http://storage.googleapis.com/deepdream/visualz/tensorflow_inception/mixed3b_5x5_pre_relu.html\n",
      "http://storage.googleapis.com/deepdream/visualz/tensorflow_inception/mixed3b_pool_reduce_pre_relu.html\n",
      "http://storage.googleapis.com/deepdream/visualz/tensorflow_inception/mixed4a_1x1_pre_relu.html\n",
      "http://storage.googleapis.com/deepdream/visualz/tensorflow_inception/mixed4a_3x3_bottleneck_pre_relu.html\n",
      "http://storage.googleapis.com/deepdream/visualz/tensorflow_inception/mixed4a_3x3_pre_relu.html\n",
      "http://storage.googleapis.com/deepdream/visualz/tensorflow_inception/mixed4a_5x5_bottleneck_pre_relu.html\n",
      "http://storage.googleapis.com/deepdream/visualz/tensorflow_inception/mixed4a_5x5_pre_relu.html\n",
      "http://storage.googleapis.com/deepdream/visualz/tensorflow_inception/mixed4a_pool_reduce_pre_relu.html\n",
      "http://storage.googleapis.com/deepdream/visualz/tensorflow_inception/mixed4b_1x1_pre_relu.html\n",
      "http://storage.googleapis.com/deepdream/visualz/tensorflow_inception/mixed4b_3x3_bottleneck_pre_relu.html\n",
      "http://storage.googleapis.com/deepdream/visualz/tensorflow_inception/mixed4b_3x3_pre_relu.html\n",
      "http://storage.googleapis.com/deepdream/visualz/tensorflow_inception/mixed4b_5x5_bottleneck_pre_relu.html\n",
      "http://storage.googleapis.com/deepdream/visualz/tensorflow_inception/mixed4b_5x5_pre_relu.html\n",
      "http://storage.googleapis.com/deepdream/visualz/tensorflow_inception/mixed4b_pool_reduce_pre_relu.html\n",
      "http://storage.googleapis.com/deepdream/visualz/tensorflow_inception/mixed4c_1x1_pre_relu.html\n",
      "http://storage.googleapis.com/deepdream/visualz/tensorflow_inception/mixed4c_3x3_bottleneck_pre_relu.html\n",
      "http://storage.googleapis.com/deepdream/visualz/tensorflow_inception/mixed4c_3x3_pre_relu.html\n",
      "http://storage.googleapis.com/deepdream/visualz/tensorflow_inception/mixed4c_5x5_bottleneck_pre_relu.html\n",
      "http://storage.googleapis.com/deepdream/visualz/tensorflow_inception/mixed4c_5x5_pre_relu.html\n",
      "http://storage.googleapis.com/deepdream/visualz/tensorflow_inception/mixed4c_pool_reduce_pre_relu.html\n",
      "http://storage.googleapis.com/deepdream/visualz/tensorflow_inception/mixed4d_1x1_pre_relu.html\n",
      "http://storage.googleapis.com/deepdream/visualz/tensorflow_inception/mixed4d_3x3_bottleneck_pre_relu.html\n",
      "http://storage.googleapis.com/deepdream/visualz/tensorflow_inception/mixed4d_3x3_pre_relu.html\n",
      "http://storage.googleapis.com/deepdream/visualz/tensorflow_inception/mixed4d_5x5_bottleneck_pre_relu.html\n",
      "http://storage.googleapis.com/deepdream/visualz/tensorflow_inception/mixed4d_5x5_pre_relu.html\n",
      "http://storage.googleapis.com/deepdream/visualz/tensorflow_inception/mixed4d_pool_reduce_pre_relu.html\n",
      "http://storage.googleapis.com/deepdream/visualz/tensorflow_inception/mixed4e_1x1_pre_relu.html\n",
      "http://storage.googleapis.com/deepdream/visualz/tensorflow_inception/mixed4e_3x3_bottleneck_pre_relu.html\n",
      "http://storage.googleapis.com/deepdream/visualz/tensorflow_inception/mixed4e_3x3_pre_relu.html\n",
      "http://storage.googleapis.com/deepdream/visualz/tensorflow_inception/mixed4e_5x5_bottleneck_pre_relu.html\n",
      "http://storage.googleapis.com/deepdream/visualz/tensorflow_inception/mixed4e_5x5_pre_relu.html\n",
      "http://storage.googleapis.com/deepdream/visualz/tensorflow_inception/mixed4e_pool_reduce_pre_relu.html\n",
      "http://storage.googleapis.com/deepdream/visualz/tensorflow_inception/mixed5a_1x1_pre_relu.html\n",
      "http://storage.googleapis.com/deepdream/visualz/tensorflow_inception/mixed5a_3x3_bottleneck_pre_relu.html\n",
      "http://storage.googleapis.com/deepdream/visualz/tensorflow_inception/mixed5a_3x3_pre_relu.html\n",
      "http://storage.googleapis.com/deepdream/visualz/tensorflow_inception/mixed5a_5x5_bottleneck_pre_relu.html\n",
      "http://storage.googleapis.com/deepdream/visualz/tensorflow_inception/mixed5a_5x5_pre_relu.html\n",
      "http://storage.googleapis.com/deepdream/visualz/tensorflow_inception/mixed5a_pool_reduce_pre_relu.html\n",
      "http://storage.googleapis.com/deepdream/visualz/tensorflow_inception/mixed5b_1x1_pre_relu.html\n",
      "http://storage.googleapis.com/deepdream/visualz/tensorflow_inception/mixed5b_3x3_bottleneck_pre_relu.html\n",
      "http://storage.googleapis.com/deepdream/visualz/tensorflow_inception/mixed5b_3x3_pre_relu.html\n",
      "http://storage.googleapis.com/deepdream/visualz/tensorflow_inception/mixed5b_5x5_bottleneck_pre_relu.html\n",
      "http://storage.googleapis.com/deepdream/visualz/tensorflow_inception/mixed5b_5x5_pre_relu.html\n",
      "http://storage.googleapis.com/deepdream/visualz/tensorflow_inception/mixed5b_pool_reduce_pre_relu.html\n"
     ]
    }
   ],
   "source": [
    "for each in img_dirs:\n",
    "    print(each)"
   ]
  },
  {
   "cell_type": "code",
   "execution_count": 6,
   "metadata": {},
   "outputs": [],
   "source": [
    "#Helper function used to remove beginning of some strings\n",
    "#credit: @martineau\n",
    "#https://stackoverflow.com/questions/16891340/remove-a-prefix-from-a-string\n",
    "def remove_prefix(text, prefix):\n",
    "    return text[text.startswith(prefix) and len(prefix):]"
   ]
  },
  {
   "cell_type": "code",
   "execution_count": 8,
   "metadata": {},
   "outputs": [
    {
     "ename": "FileNotFoundError",
     "evalue": "[Errno 2] No such file or directory: '/home/jovyan/stylegan-encoder/z1024/z1024/1.png'",
     "output_type": "error",
     "traceback": [
      "\u001b[0;31m---------------------------------------------------------------------------\u001b[0m",
      "\u001b[0;31mFileNotFoundError\u001b[0m                         Traceback (most recent call last)",
      "\u001b[0;32m<ipython-input-8-47eb6f695bdd>\u001b[0m in \u001b[0;36m<module>\u001b[0;34m\u001b[0m\n\u001b[1;32m     22\u001b[0m         \u001b[0mcompleteName\u001b[0m \u001b[0;34m=\u001b[0m \u001b[0mos\u001b[0m\u001b[0;34m.\u001b[0m\u001b[0mpath\u001b[0m\u001b[0;34m.\u001b[0m\u001b[0mjoin\u001b[0m\u001b[0;34m(\u001b[0m\u001b[0mpath\u001b[0m\u001b[0;34m,\u001b[0m \u001b[0mstr\u001b[0m\u001b[0;34m(\u001b[0m\u001b[0mi\u001b[0m\u001b[0;34m)\u001b[0m \u001b[0;34m+\u001b[0m \u001b[0;34m'.png'\u001b[0m\u001b[0;34m)\u001b[0m\u001b[0;34m\u001b[0m\u001b[0;34m\u001b[0m\u001b[0m\n\u001b[1;32m     23\u001b[0m         \u001b[0;31m#path = fromdir + '__' + str(i) + '.jpg'\u001b[0m\u001b[0;34m\u001b[0m\u001b[0;34m\u001b[0m\u001b[0;34m\u001b[0m\u001b[0m\n\u001b[0;32m---> 24\u001b[0;31m         \u001b[0;32mwith\u001b[0m \u001b[0mopen\u001b[0m\u001b[0;34m(\u001b[0m\u001b[0mcompleteName\u001b[0m\u001b[0;34m,\u001b[0m\u001b[0;34m\"wb\"\u001b[0m\u001b[0;34m)\u001b[0m \u001b[0;32mas\u001b[0m \u001b[0mf\u001b[0m\u001b[0;34m:\u001b[0m\u001b[0;34m\u001b[0m\u001b[0;34m\u001b[0m\u001b[0m\n\u001b[0m\u001b[1;32m     25\u001b[0m             \u001b[0mf\u001b[0m\u001b[0;34m.\u001b[0m\u001b[0mwrite\u001b[0m\u001b[0;34m(\u001b[0m\u001b[0mbase64\u001b[0m\u001b[0;34m.\u001b[0m\u001b[0mb64decode\u001b[0m\u001b[0;34m(\u001b[0m\u001b[0mimage\u001b[0m\u001b[0;34m)\u001b[0m\u001b[0;34m)\u001b[0m\u001b[0;34m\u001b[0m\u001b[0;34m\u001b[0m\u001b[0m\n\u001b[1;32m     26\u001b[0m \u001b[0;34m\u001b[0m\u001b[0m\n",
      "\u001b[0;31mFileNotFoundError\u001b[0m: [Errno 2] No such file or directory: '/home/jovyan/stylegan-encoder/z1024/z1024/1.png'"
     ]
    }
   ],
   "source": [
    "#Go to each image directory, get all image base64 strings, save them as images\n",
    "for each in img_dirs:\n",
    "    response = requests.get(each)\n",
    "    soup = BeautifulSoup(response.text, 'html.parser')\n",
    "    \n",
    "#     fromdir = remove_prefix(each, 'http://storage.googleapis.com/deepdream/visualz/tensorflow_inception/')\n",
    "#     fromdir = fromdir[:-5]\n",
    "    a = os.getcwd()\n",
    "    path = a + '/' + 'z1024' + '/'\n",
    "\n",
    "    #trimming images to their base64 strings\n",
    "    results = []\n",
    "    for link in soup.find_all('img'):\n",
    "        img64 = link.get('src')\n",
    "        img64 = remove_prefix(img64, 'data:image/jpeg;base64,')\n",
    "        results.append(img64)\n",
    "    \n",
    "    #saving each image in the proper folder\n",
    "    i=0 #used to label images\n",
    "    for image in results:\n",
    "        i+=1\n",
    "        completeName = os.path.join(path, str(i) + '.png') \n",
    "        #path = fromdir + '__' + str(i) + '.jpg'\n",
    "        with open(completeName,\"wb\") as f:\n",
    "            f.write(base64.b64decode(image))\n",
    "            \n",
    "            \n",
    "#Thanks to Brian Henriquez for noticing these strings were base64\n",
    "#and thanks to https://stackoverflow.com/questions/51164445/converting-dataimage-from-base64-to-jpeg-in-python"
   ]
  },
  {
   "cell_type": "code",
   "execution_count": null,
   "metadata": {},
   "outputs": [],
   "source": []
  }
 ],
 "metadata": {
  "kernelspec": {
   "display_name": "Python 3",
   "language": "python",
   "name": "python3"
  },
  "language_info": {
   "codemirror_mode": {
    "name": "ipython",
    "version": 3
   },
   "file_extension": ".py",
   "mimetype": "text/x-python",
   "name": "python",
   "nbconvert_exporter": "python",
   "pygments_lexer": "ipython3",
   "version": "3.7.3"
  }
 },
 "nbformat": 4,
 "nbformat_minor": 4
}
