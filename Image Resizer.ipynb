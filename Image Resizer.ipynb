{
 "cells": [
  {
   "cell_type": "code",
   "execution_count": 1,
   "metadata": {},
   "outputs": [],
   "source": [
    "# Modified from:\n",
    "# https://kishstats.com/python/2018/04/27/bulk-image-resizing-python.html\n",
    "from PIL import Image\n",
    "import os"
   ]
  },
  {
   "cell_type": "code",
   "execution_count": 2,
   "metadata": {},
   "outputs": [],
   "source": [
    "DEFAULT_SIZE = (1024, 1024)\n",
    "\n",
    "output_dir = 'newdream'\n",
    "dir = os.getcwd()\n",
    "input_dir = 'GNet_img'\n",
    "full_input_dir = dir + '/' + input_dir\n",
    "\n",
    "if not os.path.exists(os.path.join(dir, output_dir)):\n",
    "    os.mkdir(output_dir)"
   ]
  },
  {
   "cell_type": "code",
   "execution_count": 3,
   "metadata": {},
   "outputs": [],
   "source": [
    "def resize_image(input_dir, infile, output_dir=\"resized\", size=DEFAULT_SIZE):\n",
    "    outfile = os.path.splitext(infile)[0] + \"_resized\"\n",
    "    extension = os.path.splitext(infile)[1]\n",
    "\n",
    "    try:\n",
    "        img = Image.open(input_dir + '/' + infile)\n",
    "        img = img.resize((size[0], size[1]), Image.LANCZOS)\n",
    "\n",
    "        new_file = output_dir + \"/\" + outfile + \".png\"\n",
    "        img.save(new_file)\n",
    "    except IOError:\n",
    "        print(\"unable to resize image {}\".format(infile))"
   ]
  },
  {
   "cell_type": "code",
   "execution_count": 4,
   "metadata": {},
   "outputs": [
    {
     "name": "stdout",
     "output_type": "stream",
     "text": [
      "unable to resize image .ipynb_checkpoints\n"
     ]
    }
   ],
   "source": [
    "try:\n",
    "    for file in os.listdir(input_dir):\n",
    "        resize_image(input_dir, file, output_dir, size=DEFAULT_SIZE)\n",
    "except OSError:\n",
    "    print('file not found')"
   ]
  },
  {
   "cell_type": "code",
   "execution_count": null,
   "metadata": {},
   "outputs": [],
   "source": []
  }
 ],
 "metadata": {
  "kernelspec": {
   "display_name": "Python 3",
   "language": "python",
   "name": "python3"
  },
  "language_info": {
   "codemirror_mode": {
    "name": "ipython",
    "version": 3
   },
   "file_extension": ".py",
   "mimetype": "text/x-python",
   "name": "python",
   "nbconvert_exporter": "python",
   "pygments_lexer": "ipython3",
   "version": "3.7.3"
  }
 },
 "nbformat": 4,
 "nbformat_minor": 4
}
