{
 "cells": [
  {
   "cell_type": "code",
   "execution_count": 1,
   "metadata": {},
   "outputs": [],
   "source": [
    "from bs4 import BeautifulSoup\n",
    "import re\n",
    "import requests\n",
    "import numpy as np\n",
    "import os\n",
    "import base64\n",
    "import shutil"
   ]
  },
  {
   "cell_type": "code",
   "execution_count": 2,
   "metadata": {},
   "outputs": [],
   "source": [
    "site_url = 'http://storage.googleapis.com/deepdream/visualz/vgg16/index.html'\n",
    "page = requests.get(site_url)\n",
    "soup = BeautifulSoup(page.content, 'html.parser')\n",
    "#print(soup)"
   ]
  },
  {
   "cell_type": "code",
   "execution_count": 3,
   "metadata": {},
   "outputs": [
    {
     "name": "stdout",
     "output_type": "stream",
     "text": [
      "conv1_1.html\n",
      "conv1_2.html\n",
      "conv2_1.html\n",
      "conv2_2.html\n",
      "conv3_1.html\n",
      "conv3_2.html\n",
      "conv3_3.html\n",
      "conv4_1.html\n",
      "conv4_2.html\n",
      "conv4_3.html\n",
      "conv5_1.html\n",
      "conv5_2.html\n",
      "conv5_3.html\n"
     ]
    }
   ],
   "source": [
    "#get all directory links\n",
    "directories = []\n",
    "for link in soup.find_all('a'):\n",
    "    candidate_url = link.get('href')\n",
    "    directories.append(candidate_url)\n",
    "\n",
    "#confirming all directories were pulled\n",
    "for direct in directories:    \n",
    "    print(direct)"
   ]
  },
  {
   "cell_type": "code",
   "execution_count": 4,
   "metadata": {},
   "outputs": [],
   "source": [
    "#loop through each directory, create a folder for it, and complete the url\n",
    "img_dirs = []\n",
    "for each in directories:\n",
    "    dataset_url = \"http://storage.googleapis.com/deepdream/visualz/vgg16/\" + each\n",
    "    img_dirs.append(dataset_url)"
   ]
  },
  {
   "cell_type": "code",
   "execution_count": 5,
   "metadata": {},
   "outputs": [
    {
     "name": "stdout",
     "output_type": "stream",
     "text": [
      "['http://storage.googleapis.com/deepdream/visualz/vgg16/conv1_1.html', 'http://storage.googleapis.com/deepdream/visualz/vgg16/conv1_2.html', 'http://storage.googleapis.com/deepdream/visualz/vgg16/conv2_1.html', 'http://storage.googleapis.com/deepdream/visualz/vgg16/conv2_2.html', 'http://storage.googleapis.com/deepdream/visualz/vgg16/conv3_1.html', 'http://storage.googleapis.com/deepdream/visualz/vgg16/conv3_2.html', 'http://storage.googleapis.com/deepdream/visualz/vgg16/conv3_3.html', 'http://storage.googleapis.com/deepdream/visualz/vgg16/conv4_1.html', 'http://storage.googleapis.com/deepdream/visualz/vgg16/conv4_2.html', 'http://storage.googleapis.com/deepdream/visualz/vgg16/conv4_3.html', 'http://storage.googleapis.com/deepdream/visualz/vgg16/conv5_1.html', 'http://storage.googleapis.com/deepdream/visualz/vgg16/conv5_2.html', 'http://storage.googleapis.com/deepdream/visualz/vgg16/conv5_3.html']\n"
     ]
    }
   ],
   "source": [
    "print(img_dirs)"
   ]
  },
  {
   "cell_type": "code",
   "execution_count": 6,
   "metadata": {},
   "outputs": [],
   "source": [
    "#Helper function used to remove beginning of some strings\n",
    "#credit: @martineau\n",
    "#https://stackoverflow.com/questions/16891340/remove-a-prefix-from-a-string\n",
    "def remove_prefix(text, prefix):\n",
    "    return text[text.startswith(prefix) and len(prefix):]"
   ]
  },
  {
   "cell_type": "code",
   "execution_count": 7,
   "metadata": {},
   "outputs": [],
   "source": [
    "#Go to each image directory, get all image base64 strings, save them as images\n",
    "for each in img_dirs:\n",
    "    response = requests.get(each)\n",
    "    soup = BeautifulSoup(response.text, 'html.parser')\n",
    "    \n",
    "    #fromdir = remove_prefix(each, 'http://storage.googleapis.com/deepdream/visualz/vgg16/')\n",
    "    #fromdir = fromdir[:-5]\n",
    "    a = os.getcwd()\n",
    "    path = a + '/' #+ 'GNet_img' + '/'\n",
    "\n",
    "    #trimming images to their base64 strings\n",
    "    results = []\n",
    "    for link in soup.find_all('img'):\n",
    "        img64 = link.get('src')\n",
    "        img64 = remove_prefix(img64, 'data:image/jpeg;base64,')\n",
    "        results.append(img64)\n",
    "    \n",
    "    #saving each image in the proper folder\n",
    "    i=0 #used to label images\n",
    "    for image in results:\n",
    "        i+=1\n",
    "        completeName = os.path.join(path, 'V' + str(i) + '.png') \n",
    "        #path = fromdir + '__' + str(i) + '.jpg'\n",
    "        with open(completeName,\"wb\") as f:\n",
    "            f.write(base64.b64decode(image))\n",
    "            \n",
    "            \n",
    "#Thanks to Brian Henriquez for noticing these strings were base64\n",
    "#and thanks to https://stackoverflow.com/questions/51164445/converting-dataimage-from-base64-to-jpeg-in-python"
   ]
  },
  {
   "cell_type": "code",
   "execution_count": null,
   "metadata": {},
   "outputs": [],
   "source": []
  }
 ],
 "metadata": {
  "kernelspec": {
   "display_name": "Python 3",
   "language": "python",
   "name": "python3"
  },
  "language_info": {
   "codemirror_mode": {
    "name": "ipython",
    "version": 3
   },
   "file_extension": ".py",
   "mimetype": "text/x-python",
   "name": "python",
   "nbconvert_exporter": "python",
   "pygments_lexer": "ipython3",
   "version": "3.7.3"
  }
 },
 "nbformat": 4,
 "nbformat_minor": 4
}
